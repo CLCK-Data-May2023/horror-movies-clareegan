{
 "cells": [
  {
   "cell_type": "code",
   "execution_count": 1,
   "metadata": {},
   "outputs": [],
   "source": [
    "# run imports\n",
    "import sqlite3\n",
    "import pandas as pd\n",
    "\n",
    "# connect to the database\n",
    "conn = sqlite3.connect('db/movies.db')\n",
    "\n",
    "# create curson object\n",
    "cursor = conn.cursor()\n",
    "\n",
    "# create table\n",
    "cursor.execute('''\n",
    "CREATE TABLE IF NOT EXISTS movies(\n",
    "    id INTEGER PRIMARY KEY, \n",
    "    name TEXT NOT NULL,\n",
    "    genre TEXT, \n",
    "    year INTEGER, \n",
    "    imdb_rating REAL\n",
    "    )\n",
    "''')\n",
    "\n",
    "# commit changes and close the connection\n",
    "conn.commit()\n",
    "conn.close()\n"
   ]
  },
  {
   "cell_type": "code",
   "execution_count": 2,
   "metadata": {},
   "outputs": [
    {
     "name": "stdout",
     "output_type": "stream",
     "text": [
      "      id                                       name    genre    year  \\\n",
      "0      1                                     Avatar   action  2009.0   \n",
      "1      2                             Jurassic World   action  2015.0   \n",
      "2      3                               The Avengers   action  2012.0   \n",
      "3      4                            The Dark Knight   action  2008.0   \n",
      "4      5  Star Wars: Episode I - The Phantom Menace   action  1999.0   \n",
      "..   ...                                        ...      ...     ...   \n",
      "225  226                                The Shining   horror  1985.0   \n",
      "226  227              The Devil and Daniel Johnston     None  2005.0   \n",
      "227  228                       Ali Wong: Baby Cobra           2016.0   \n",
      "228  229                               The Big Sick  romance  2017.0   \n",
      "229  230                                   Deadpool   action  2016.0   \n",
      "\n",
      "     imdb_rating  \n",
      "0            7.9  \n",
      "1            7.3  \n",
      "2            8.1  \n",
      "3            9.0  \n",
      "4            6.6  \n",
      "..           ...  \n",
      "225          8.4  \n",
      "226          8.0  \n",
      "227          NaN  \n",
      "228          NaN  \n",
      "229          NaN  \n",
      "\n",
      "[230 rows x 5 columns]\n"
     ]
    }
   ],
   "source": [
    "# connect to the database\n",
    "conn = sqlite3.connect('db/movies.db')\n",
    "\n",
    "# Read from DB Table into a Dataframe\n",
    "query = 'SELECT * FROM movies'\n",
    "df = pd.read_sql(query, conn)\n",
    "\n",
    "#Display the dataframe\n",
    "print(df)\n",
    "conn.close()"
   ]
  },
  {
   "cell_type": "code",
   "execution_count": 9,
   "metadata": {},
   "outputs": [
    {
     "ename": "DatabaseError",
     "evalue": "Execution failed on sql '\nSELECT id AS 'Movie_ID,' name AS 'Movie_Title', imdb_rating AS 'Rating' FROM movies\n': near \"name\": syntax error",
     "output_type": "error",
     "traceback": [
      "\u001b[0;31m---------------------------------------------------------------------------\u001b[0m",
      "\u001b[0;31mOperationalError\u001b[0m                          Traceback (most recent call last)",
      "File \u001b[0;32m/workspaces/horror-movies-clareegan/venv/lib/python3.10/site-packages/pandas/io/sql.py:2266\u001b[0m, in \u001b[0;36mSQLiteDatabase.execute\u001b[0;34m(self, sql, params)\u001b[0m\n\u001b[1;32m   2265\u001b[0m \u001b[39mtry\u001b[39;00m:\n\u001b[0;32m-> 2266\u001b[0m     cur\u001b[39m.\u001b[39;49mexecute(sql, \u001b[39m*\u001b[39;49margs)\n\u001b[1;32m   2267\u001b[0m     \u001b[39mreturn\u001b[39;00m cur\n",
      "\u001b[0;31mOperationalError\u001b[0m: near \"name\": syntax error",
      "\nThe above exception was the direct cause of the following exception:\n",
      "\u001b[0;31mDatabaseError\u001b[0m                             Traceback (most recent call last)",
      "\u001b[1;32m/workspaces/horror-movies-clareegan/horror_movies.ipynb Cell 3\u001b[0m line \u001b[0;36m8\n\u001b[1;32m      <a href='vscode-notebook-cell://codespaces%2Bautomatic-waddle-5w65jxwq56qh4rgr/workspaces/horror-movies-clareegan/horror_movies.ipynb#W2sdnNjb2RlLXJlbW90ZQ%3D%3D?line=3'>4</a>\u001b[0m \u001b[39m# Read from DB Table into a Dataframe\u001b[39;00m\n\u001b[1;32m      <a href='vscode-notebook-cell://codespaces%2Bautomatic-waddle-5w65jxwq56qh4rgr/workspaces/horror-movies-clareegan/horror_movies.ipynb#W2sdnNjb2RlLXJlbW90ZQ%3D%3D?line=4'>5</a>\u001b[0m query \u001b[39m=\u001b[39m \u001b[39m'''\u001b[39m\n\u001b[1;32m      <a href='vscode-notebook-cell://codespaces%2Bautomatic-waddle-5w65jxwq56qh4rgr/workspaces/horror-movies-clareegan/horror_movies.ipynb#W2sdnNjb2RlLXJlbW90ZQ%3D%3D?line=5'>6</a>\u001b[0m \u001b[39mSELECT id AS \u001b[39m\u001b[39m'\u001b[39m\u001b[39mMovie_ID,\u001b[39m\u001b[39m'\u001b[39m\u001b[39m name AS \u001b[39m\u001b[39m'\u001b[39m\u001b[39mMovie_Title\u001b[39m\u001b[39m'\u001b[39m\u001b[39m, imdb_rating AS \u001b[39m\u001b[39m'\u001b[39m\u001b[39mRating\u001b[39m\u001b[39m'\u001b[39m\u001b[39m FROM movies\u001b[39m\n\u001b[1;32m      <a href='vscode-notebook-cell://codespaces%2Bautomatic-waddle-5w65jxwq56qh4rgr/workspaces/horror-movies-clareegan/horror_movies.ipynb#W2sdnNjb2RlLXJlbW90ZQ%3D%3D?line=6'>7</a>\u001b[0m \u001b[39m'''\u001b[39m\n\u001b[0;32m----> <a href='vscode-notebook-cell://codespaces%2Bautomatic-waddle-5w65jxwq56qh4rgr/workspaces/horror-movies-clareegan/horror_movies.ipynb#W2sdnNjb2RlLXJlbW90ZQ%3D%3D?line=7'>8</a>\u001b[0m df \u001b[39m=\u001b[39m pd\u001b[39m.\u001b[39;49mread_sql(query,conn)\n\u001b[1;32m     <a href='vscode-notebook-cell://codespaces%2Bautomatic-waddle-5w65jxwq56qh4rgr/workspaces/horror-movies-clareegan/horror_movies.ipynb#W2sdnNjb2RlLXJlbW90ZQ%3D%3D?line=9'>10</a>\u001b[0m \u001b[39m#Display the dataframe\u001b[39;00m\n\u001b[1;32m     <a href='vscode-notebook-cell://codespaces%2Bautomatic-waddle-5w65jxwq56qh4rgr/workspaces/horror-movies-clareegan/horror_movies.ipynb#W2sdnNjb2RlLXJlbW90ZQ%3D%3D?line=10'>11</a>\u001b[0m \u001b[39mprint\u001b[39m(df)\n",
      "File \u001b[0;32m/workspaces/horror-movies-clareegan/venv/lib/python3.10/site-packages/pandas/io/sql.py:654\u001b[0m, in \u001b[0;36mread_sql\u001b[0;34m(sql, con, index_col, coerce_float, params, parse_dates, columns, chunksize, dtype_backend, dtype)\u001b[0m\n\u001b[1;32m    652\u001b[0m \u001b[39mwith\u001b[39;00m pandasSQL_builder(con) \u001b[39mas\u001b[39;00m pandas_sql:\n\u001b[1;32m    653\u001b[0m     \u001b[39mif\u001b[39;00m \u001b[39misinstance\u001b[39m(pandas_sql, SQLiteDatabase):\n\u001b[0;32m--> 654\u001b[0m         \u001b[39mreturn\u001b[39;00m pandas_sql\u001b[39m.\u001b[39;49mread_query(\n\u001b[1;32m    655\u001b[0m             sql,\n\u001b[1;32m    656\u001b[0m             index_col\u001b[39m=\u001b[39;49mindex_col,\n\u001b[1;32m    657\u001b[0m             params\u001b[39m=\u001b[39;49mparams,\n\u001b[1;32m    658\u001b[0m             coerce_float\u001b[39m=\u001b[39;49mcoerce_float,\n\u001b[1;32m    659\u001b[0m             parse_dates\u001b[39m=\u001b[39;49mparse_dates,\n\u001b[1;32m    660\u001b[0m             chunksize\u001b[39m=\u001b[39;49mchunksize,\n\u001b[1;32m    661\u001b[0m             dtype_backend\u001b[39m=\u001b[39;49mdtype_backend,\n\u001b[1;32m    662\u001b[0m             dtype\u001b[39m=\u001b[39;49mdtype,\n\u001b[1;32m    663\u001b[0m         )\n\u001b[1;32m    665\u001b[0m     \u001b[39mtry\u001b[39;00m:\n\u001b[1;32m    666\u001b[0m         _is_table_name \u001b[39m=\u001b[39m pandas_sql\u001b[39m.\u001b[39mhas_table(sql)\n",
      "File \u001b[0;32m/workspaces/horror-movies-clareegan/venv/lib/python3.10/site-packages/pandas/io/sql.py:2330\u001b[0m, in \u001b[0;36mSQLiteDatabase.read_query\u001b[0;34m(self, sql, index_col, coerce_float, parse_dates, params, chunksize, dtype, dtype_backend)\u001b[0m\n\u001b[1;32m   2319\u001b[0m \u001b[39mdef\u001b[39;00m \u001b[39mread_query\u001b[39m(\n\u001b[1;32m   2320\u001b[0m     \u001b[39mself\u001b[39m,\n\u001b[1;32m   2321\u001b[0m     sql,\n\u001b[0;32m   (...)\u001b[0m\n\u001b[1;32m   2328\u001b[0m     dtype_backend: DtypeBackend \u001b[39m|\u001b[39m Literal[\u001b[39m\"\u001b[39m\u001b[39mnumpy\u001b[39m\u001b[39m\"\u001b[39m] \u001b[39m=\u001b[39m \u001b[39m\"\u001b[39m\u001b[39mnumpy\u001b[39m\u001b[39m\"\u001b[39m,\n\u001b[1;32m   2329\u001b[0m ) \u001b[39m-\u001b[39m\u001b[39m>\u001b[39m DataFrame \u001b[39m|\u001b[39m Iterator[DataFrame]:\n\u001b[0;32m-> 2330\u001b[0m     cursor \u001b[39m=\u001b[39m \u001b[39mself\u001b[39;49m\u001b[39m.\u001b[39;49mexecute(sql, params)\n\u001b[1;32m   2331\u001b[0m     columns \u001b[39m=\u001b[39m [col_desc[\u001b[39m0\u001b[39m] \u001b[39mfor\u001b[39;00m col_desc \u001b[39min\u001b[39;00m cursor\u001b[39m.\u001b[39mdescription]\n\u001b[1;32m   2333\u001b[0m     \u001b[39mif\u001b[39;00m chunksize \u001b[39mis\u001b[39;00m \u001b[39mnot\u001b[39;00m \u001b[39mNone\u001b[39;00m:\n",
      "File \u001b[0;32m/workspaces/horror-movies-clareegan/venv/lib/python3.10/site-packages/pandas/io/sql.py:2278\u001b[0m, in \u001b[0;36mSQLiteDatabase.execute\u001b[0;34m(self, sql, params)\u001b[0m\n\u001b[1;32m   2275\u001b[0m     \u001b[39mraise\u001b[39;00m ex \u001b[39mfrom\u001b[39;00m \u001b[39minner_exc\u001b[39;00m\n\u001b[1;32m   2277\u001b[0m ex \u001b[39m=\u001b[39m DatabaseError(\u001b[39mf\u001b[39m\u001b[39m\"\u001b[39m\u001b[39mExecution failed on sql \u001b[39m\u001b[39m'\u001b[39m\u001b[39m{\u001b[39;00msql\u001b[39m}\u001b[39;00m\u001b[39m'\u001b[39m\u001b[39m: \u001b[39m\u001b[39m{\u001b[39;00mexc\u001b[39m}\u001b[39;00m\u001b[39m\"\u001b[39m)\n\u001b[0;32m-> 2278\u001b[0m \u001b[39mraise\u001b[39;00m ex \u001b[39mfrom\u001b[39;00m \u001b[39mexc\u001b[39;00m\n",
      "\u001b[0;31mDatabaseError\u001b[0m: Execution failed on sql '\nSELECT id AS 'Movie_ID,' name AS 'Movie_Title', imdb_rating AS 'Rating' FROM movies\n': near \"name\": syntax error"
     ]
    }
   ],
   "source": [
    "# connect to the database\n",
    "conn = sqlite3.connect('db/movies.db')\n",
    "\n",
    "# Read from DB Table into a Dataframe\n",
    "query = '''\n",
    "SELECT id AS 'Movie_ID,' name AS 'Movie_Title', imdb_rating AS 'Rating' FROM movies\n",
    "'''\n",
    "df = pd.read_sql(query,conn)\n",
    "\n",
    "#Display the dataframe\n",
    "print(df)\n",
    "conn.close()"
   ]
  },
  {
   "cell_type": "code",
   "execution_count": 11,
   "metadata": {},
   "outputs": [
    {
     "name": "stdout",
     "output_type": "stream",
     "text": [
      "     Movie_ID                                Movie_Title  Rating\n",
      "0           1                                     Avatar     7.9\n",
      "1           2                             Jurassic World     7.3\n",
      "2           3                               The Avengers     8.1\n",
      "3           4                            The Dark Knight     9.0\n",
      "4           5  Star Wars: Episode I - The Phantom Menace     6.6\n",
      "..        ...                                        ...     ...\n",
      "225       226                                The Shining     8.4\n",
      "226       227              The Devil and Daniel Johnston     8.0\n",
      "227       228                       Ali Wong: Baby Cobra     NaN\n",
      "228       229                               The Big Sick     NaN\n",
      "229       230                                   Deadpool     NaN\n",
      "\n",
      "[230 rows x 3 columns]\n"
     ]
    }
   ],
   "source": [
    "# connect to the Database\n",
    "conn = sqlite3.connect('db/movies.db')\n",
    "\n",
    "# Read from DB Table into a Dataframe\n",
    "query = '''\n",
    "SELECT id AS Movie_ID, name AS Movie_Title, imdb_rating AS Rating FROM movies\n",
    "'''\n",
    "df = pd.read_sql(query, conn)\n",
    "\n",
    "# Display the Dataframe\n",
    "print(df)\n",
    "conn.close()\n"
   ]
  },
  {
   "cell_type": "code",
   "execution_count": 13,
   "metadata": {},
   "outputs": [
    {
     "name": "stdout",
     "output_type": "stream",
     "text": [
      "   Movie_ID            Movie_Title  Rating\n",
      "0       100               Gremlins     7.2\n",
      "1       109                 Jaws 2     5.7\n",
      "2       116  The Amityville Horror     6.2\n",
      "3       222       Dawn of the Dead     5.2\n",
      "4       226            The Shining     8.4\n"
     ]
    }
   ],
   "source": [
    "# connect to the Database\n",
    "conn = sqlite3.connect('db/movies.db')\n",
    "\n",
    "# Read from DB Table into a Dataframe\n",
    "query = '''\n",
    "SELECT id AS Movie_ID, name AS Movie_Title, imdb_rating AS Rating FROM movies\n",
    "WHERE genre = 'horror' AND year <= 1985\n",
    "'''\n",
    "df = pd.read_sql(query, conn)\n",
    "\n",
    "# Display the Dataframe\n",
    "print(df)\n",
    "conn.close()\n"
   ]
  },
  {
   "cell_type": "code",
   "execution_count": 14,
   "metadata": {},
   "outputs": [
    {
     "name": "stdout",
     "output_type": "stream",
     "text": [
      "   Movie_ID            Movie_Title  Rating\n",
      "0       226            The Shining     8.4\n",
      "1       100               Gremlins     7.2\n",
      "2       116  The Amityville Horror     6.2\n",
      "3       109                 Jaws 2     5.7\n",
      "4       222       Dawn of the Dead     5.2\n"
     ]
    }
   ],
   "source": [
    "# connect to the Database\n",
    "conn = sqlite3.connect('db/movies.db')\n",
    "\n",
    "# Read from DB Table into a Dataframe\n",
    "query = '''\n",
    "SELECT id AS Movie_ID, name AS Movie_Title, imdb_rating AS Rating FROM movies\n",
    "WHERE genre = 'horror' AND year <= 1985\n",
    "ORDER BY imdb_rating DESC\n",
    "'''\n",
    "df = pd.read_sql(query, conn)\n",
    "\n",
    "# Display the Dataframe\n",
    "print(df)\n",
    "conn.close()\n"
   ]
  },
  {
   "cell_type": "code",
   "execution_count": 15,
   "metadata": {},
   "outputs": [
    {
     "name": "stdout",
     "output_type": "stream",
     "text": [
      "   Movie_ID            Movie_Title  Rating\n",
      "0       226            The Shining     8.4\n",
      "1       100               Gremlins     7.2\n",
      "2       116  The Amityville Horror     6.2\n"
     ]
    }
   ],
   "source": [
    "# connect to the Database\n",
    "conn = sqlite3.connect('db/movies.db')\n",
    "\n",
    "# Read from DB Table into a Dataframe\n",
    "query = '''\n",
    "SELECT id AS Movie_ID, name AS Movie_Title, imdb_rating AS Rating FROM movies\n",
    "WHERE genre = 'horror' AND year <= 1985\n",
    "ORDER BY imdb_rating DESC\n",
    "LIMIT 3;\n",
    "'''\n",
    "df = pd.read_sql(query, conn)\n",
    "\n",
    "# Display the Dataframe\n",
    "print(df)\n",
    "conn.close()\n"
   ]
  },
  {
   "cell_type": "code",
   "execution_count": 16,
   "metadata": {},
   "outputs": [],
   "source": [
    "# Run Imports\n",
    "import sqlite3\n",
    "import pandas as pd\n",
    "\n",
    "#Connect to the Database\n",
    "conn = sqlite3.connect('db/movies.db')\n",
    "\n",
    "#Create Curson object\n",
    "cursor = conn.cursor()\n",
    "\n",
    "#Create table\n",
    "cursor.execute('''\n",
    "    CREATE TABLE IF NOT EXISTS movies(\n",
    "    id INTEGER PRIMARY KEY,\n",
    "    name TEXT NOT NULL,\n",
    "    genre TEXT,\n",
    "    year INTEGER,\n",
    "    imdb_rating REAL           \n",
    "    )\n",
    "\n",
    "''')\n",
    "\n",
    "# Commit changes and close the connection\n",
    "conn.commit()\n",
    "conn.close()"
   ]
  },
  {
   "cell_type": "code",
   "execution_count": 19,
   "metadata": {},
   "outputs": [
    {
     "name": "stdout",
     "output_type": "stream",
     "text": [
      "   Movie_ID            Movie_Title  Rating\n",
      "0       226            The Shining     8.4\n",
      "1       100               Gremlins     7.2\n",
      "2       116  The Amityville Horror     6.2\n"
     ]
    }
   ],
   "source": [
    "# connect to the Database\n",
    "conn = sqlite3.connect('db/movies.db')\n",
    "\n",
    "# Read from DB Table into a Dataframe\n",
    "query = '''\n",
    "SELECT id AS Movie_ID, name AS Movie_Title, imdb_rating AS Rating FROM movies\n",
    "WHERE genre = 'horror' AND year <= 1985\n",
    "ORDER BY imdb_rating DESC\n",
    "LIMIT 3;\n",
    "'''\n",
    "df = pd.read_sql(query, conn)\n",
    "\n",
    "# Display the Dataframe\n",
    "print(df)\n",
    "conn.close()\n"
   ]
  },
  {
   "cell_type": "code",
   "execution_count": 20,
   "metadata": {},
   "outputs": [
    {
     "name": "stdout",
     "output_type": "stream",
     "text": [
      "   Movie_ID            Movie_Title  Rating\n",
      "0       226            The Shining     8.4\n",
      "1       100               Gremlins     7.2\n",
      "2       116  The Amityville Horror     6.2\n"
     ]
    }
   ],
   "source": [
    "# connect to the Database\n",
    "conn = sqlite3.connect('db/movies.db')\n",
    "\n",
    "# Read from DB Table into a Dataframe\n",
    "query = '''\n",
    "SELECT id as Movie_ID, name as Movie_Title, imdb_rating as Rating \n",
    "FROM movies\n",
    "WHERE genre = 'horror' AND year <= 1985\n",
    "ORDER BY imdb_rating DESC\n",
    "LIMIT 3;\n",
    "'''\n",
    "df = pd.read_sql(query, conn)\n",
    "\n",
    "# Display the Dataframe\n",
    "print(df)\n",
    "conn.close()"
   ]
  }
 ],
 "metadata": {
  "kernelspec": {
   "display_name": "venv",
   "language": "python",
   "name": "python3"
  },
  "language_info": {
   "codemirror_mode": {
    "name": "ipython",
    "version": 3
   },
   "file_extension": ".py",
   "mimetype": "text/x-python",
   "name": "python",
   "nbconvert_exporter": "python",
   "pygments_lexer": "ipython3",
   "version": "3.10.8"
  }
 },
 "nbformat": 4,
 "nbformat_minor": 2
}
